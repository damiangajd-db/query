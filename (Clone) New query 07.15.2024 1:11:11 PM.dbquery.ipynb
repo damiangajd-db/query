{
 "cells": [
  {
   "cell_type": "code",
   "execution_count": 0,
   "metadata": {
    "application/vnd.databricks.v1+cell": {
     "cellMetadata": {},
     "inputWidgets": {},
     "nuid": "bd5dab66-4905-4d1e-a21d-736a05ada2c3",
     "showTitle": false,
     "title": ""
    }
   },
   "outputs": [],
   "source": [
    "SELECT a FROM b"
   ]
  }
 ],
 "metadata": {
  "application/vnd.databricks.v1+notebook": {
   "dashboards": [],
   "environmentMetadata": null,
   "language": "sql",
   "notebookMetadata": {
    "pythonIndentUnit": 2,
    "sqlQueryOptions": {
     "applyAutoLimit": true,
     "catalog": "hive_metastore",
     "schema": "default"
    }
   },
   "notebookName": "(Clone) New query 07.15.2024 1:11:11 PM.dbquery.ipynb",
   "widgets": {}
  }
 },
 "nbformat": 4,
 "nbformat_minor": 0
}
