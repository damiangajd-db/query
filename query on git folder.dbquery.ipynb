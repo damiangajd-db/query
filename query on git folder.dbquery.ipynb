{
 "cells": [
  {
   "cell_type": "code",
   "execution_count": 0,
   "metadata": {
    "application/vnd.databricks.v1+cell": {
     "cellMetadata": {},
     "inputWidgets": {},
     "nuid": "9f1769f3-ad6b-47d9-bdfc-fb548640ca50",
     "showTitle": false,
     "title": ""
    }
   },
   "outputs": [],
   "source": [
    "SELECT \"a1\" as textA1"
   ]
  }
 ],
 "metadata": {
  "application/vnd.databricks.v1+notebook": {
   "dashboards": [],
   "environmentMetadata": null,
   "language": "sql",
   "notebookMetadata": {
    "pythonIndentUnit": 2,
    "sqlQueryOptions": {
     "applyAutoLimit": true,
     "catalog": "hive_metastore",
     "schema": "default"
    }
   },
   "notebookName": "query on git folder.dbquery.ipynb",
   "widgets": {}
  }
 },
 "nbformat": 4,
 "nbformat_minor": 0
}
